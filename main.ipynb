{
 "cells": [
  {
   "cell_type": "code",
   "metadata": {
    "ExecuteTime": {
     "end_time": "2024-09-20T14:47:07.429610Z",
     "start_time": "2024-09-20T14:47:07.409432Z"
    }
   },
   "source": [
    "from sklearn.preprocessing import LabelEncoder, MinMaxScaler\n",
    "from sklearn.model_selection import train_test_split\n",
    "from sklearn.metrics import r2_score\n",
    "from xgboost import XGBRegressor\n",
    "import matplotlib.pyplot as plt\n",
    "import seaborn as sns\n",
    "import pandas as pd\n",
    "import numpy as np\n",
    "import itertools"
   ],
   "outputs": [],
   "execution_count": 83
  },
  {
   "cell_type": "code",
   "metadata": {
    "ExecuteTime": {
     "end_time": "2024-09-20T14:47:10.202110Z",
     "start_time": "2024-09-20T14:47:07.788815Z"
    }
   },
   "source": [
    "# Load the dataset\n",
    "sales_data = pd.read_csv(\"sales.csv\")"
   ],
   "outputs": [],
   "execution_count": 84
  },
  {
   "cell_type": "code",
   "metadata": {
    "ExecuteTime": {
     "end_time": "2024-09-20T14:47:10.485345Z",
     "start_time": "2024-09-20T14:47:10.448328Z"
    }
   },
   "source": [
    "# Check the data if all columns are numbers\n",
    "sales_data.dtypes"
   ],
   "outputs": [
    {
     "data": {
      "text/plain": [
       "Unnamed: 0              int64\n",
       "store_ID                int64\n",
       "day_of_week             int64\n",
       "date                   object\n",
       "nb_customers_on_day     int64\n",
       "open                    int64\n",
       "promotion               int64\n",
       "state_holiday          object\n",
       "school_holiday          int64\n",
       "sales                   int64\n",
       "dtype: object"
      ]
     },
     "execution_count": 85,
     "metadata": {},
     "output_type": "execute_result"
    }
   ],
   "execution_count": 85
  },
  {
   "cell_type": "code",
   "metadata": {
    "ExecuteTime": {
     "end_time": "2024-09-20T14:47:11.286750Z",
     "start_time": "2024-09-20T14:47:11.037578Z"
    }
   },
   "source": [
    "# Check no missing values\n",
    "sales_data.isnull().sum()"
   ],
   "outputs": [
    {
     "data": {
      "text/plain": [
       "Unnamed: 0             0\n",
       "store_ID               0\n",
       "day_of_week            0\n",
       "date                   0\n",
       "nb_customers_on_day    0\n",
       "open                   0\n",
       "promotion              0\n",
       "state_holiday          0\n",
       "school_holiday         0\n",
       "sales                  0\n",
       "dtype: int64"
      ]
     },
     "execution_count": 86,
     "metadata": {},
     "output_type": "execute_result"
    }
   ],
   "execution_count": 86
  },
  {
   "cell_type": "code",
   "metadata": {
    "ExecuteTime": {
     "end_time": "2024-09-20T14:47:12.002389Z",
     "start_time": "2024-09-20T14:47:11.964097Z"
    }
   },
   "source": [
    "# Print dataframe head to inspect data\n",
    "sales_data.head()"
   ],
   "outputs": [
    {
     "data": {
      "text/plain": [
       "   Unnamed: 0  store_ID  day_of_week        date  nb_customers_on_day  open  \\\n",
       "0      425390       366            4  2013-04-18                  517     1   \n",
       "1      291687       394            6  2015-04-11                  694     1   \n",
       "2      411278       807            4  2013-08-29                  970     1   \n",
       "3      664714       802            2  2013-05-28                  473     1   \n",
       "4      540835       726            4  2013-10-10                 1068     1   \n",
       "\n",
       "   promotion state_holiday  school_holiday  sales  \n",
       "0          0             0               0   4422  \n",
       "1          0             0               0   8297  \n",
       "2          1             0               0   9729  \n",
       "3          1             0               0   6513  \n",
       "4          1             0               0  10882  "
      ],
      "text/html": [
       "<div>\n",
       "<style scoped>\n",
       "    .dataframe tbody tr th:only-of-type {\n",
       "        vertical-align: middle;\n",
       "    }\n",
       "\n",
       "    .dataframe tbody tr th {\n",
       "        vertical-align: top;\n",
       "    }\n",
       "\n",
       "    .dataframe thead th {\n",
       "        text-align: right;\n",
       "    }\n",
       "</style>\n",
       "<table border=\"1\" class=\"dataframe\">\n",
       "  <thead>\n",
       "    <tr style=\"text-align: right;\">\n",
       "      <th></th>\n",
       "      <th>Unnamed: 0</th>\n",
       "      <th>store_ID</th>\n",
       "      <th>day_of_week</th>\n",
       "      <th>date</th>\n",
       "      <th>nb_customers_on_day</th>\n",
       "      <th>open</th>\n",
       "      <th>promotion</th>\n",
       "      <th>state_holiday</th>\n",
       "      <th>school_holiday</th>\n",
       "      <th>sales</th>\n",
       "    </tr>\n",
       "  </thead>\n",
       "  <tbody>\n",
       "    <tr>\n",
       "      <th>0</th>\n",
       "      <td>425390</td>\n",
       "      <td>366</td>\n",
       "      <td>4</td>\n",
       "      <td>2013-04-18</td>\n",
       "      <td>517</td>\n",
       "      <td>1</td>\n",
       "      <td>0</td>\n",
       "      <td>0</td>\n",
       "      <td>0</td>\n",
       "      <td>4422</td>\n",
       "    </tr>\n",
       "    <tr>\n",
       "      <th>1</th>\n",
       "      <td>291687</td>\n",
       "      <td>394</td>\n",
       "      <td>6</td>\n",
       "      <td>2015-04-11</td>\n",
       "      <td>694</td>\n",
       "      <td>1</td>\n",
       "      <td>0</td>\n",
       "      <td>0</td>\n",
       "      <td>0</td>\n",
       "      <td>8297</td>\n",
       "    </tr>\n",
       "    <tr>\n",
       "      <th>2</th>\n",
       "      <td>411278</td>\n",
       "      <td>807</td>\n",
       "      <td>4</td>\n",
       "      <td>2013-08-29</td>\n",
       "      <td>970</td>\n",
       "      <td>1</td>\n",
       "      <td>1</td>\n",
       "      <td>0</td>\n",
       "      <td>0</td>\n",
       "      <td>9729</td>\n",
       "    </tr>\n",
       "    <tr>\n",
       "      <th>3</th>\n",
       "      <td>664714</td>\n",
       "      <td>802</td>\n",
       "      <td>2</td>\n",
       "      <td>2013-05-28</td>\n",
       "      <td>473</td>\n",
       "      <td>1</td>\n",
       "      <td>1</td>\n",
       "      <td>0</td>\n",
       "      <td>0</td>\n",
       "      <td>6513</td>\n",
       "    </tr>\n",
       "    <tr>\n",
       "      <th>4</th>\n",
       "      <td>540835</td>\n",
       "      <td>726</td>\n",
       "      <td>4</td>\n",
       "      <td>2013-10-10</td>\n",
       "      <td>1068</td>\n",
       "      <td>1</td>\n",
       "      <td>1</td>\n",
       "      <td>0</td>\n",
       "      <td>0</td>\n",
       "      <td>10882</td>\n",
       "    </tr>\n",
       "  </tbody>\n",
       "</table>\n",
       "</div>"
      ]
     },
     "execution_count": 87,
     "metadata": {},
     "output_type": "execute_result"
    }
   ],
   "execution_count": 87
  },
  {
   "cell_type": "code",
   "metadata": {
    "ExecuteTime": {
     "end_time": "2024-09-20T14:47:12.934676Z",
     "start_time": "2024-09-20T14:47:12.900280Z"
    }
   },
   "source": [
    "# Rename unnamed first column\n",
    "sales_data.rename(columns={'Unnamed: 0':'something'}, inplace=True)\n",
    "sales_data.head()"
   ],
   "outputs": [
    {
     "data": {
      "text/plain": [
       "   something  store_ID  day_of_week        date  nb_customers_on_day  open  \\\n",
       "0     425390       366            4  2013-04-18                  517     1   \n",
       "1     291687       394            6  2015-04-11                  694     1   \n",
       "2     411278       807            4  2013-08-29                  970     1   \n",
       "3     664714       802            2  2013-05-28                  473     1   \n",
       "4     540835       726            4  2013-10-10                 1068     1   \n",
       "\n",
       "   promotion state_holiday  school_holiday  sales  \n",
       "0          0             0               0   4422  \n",
       "1          0             0               0   8297  \n",
       "2          1             0               0   9729  \n",
       "3          1             0               0   6513  \n",
       "4          1             0               0  10882  "
      ],
      "text/html": [
       "<div>\n",
       "<style scoped>\n",
       "    .dataframe tbody tr th:only-of-type {\n",
       "        vertical-align: middle;\n",
       "    }\n",
       "\n",
       "    .dataframe tbody tr th {\n",
       "        vertical-align: top;\n",
       "    }\n",
       "\n",
       "    .dataframe thead th {\n",
       "        text-align: right;\n",
       "    }\n",
       "</style>\n",
       "<table border=\"1\" class=\"dataframe\">\n",
       "  <thead>\n",
       "    <tr style=\"text-align: right;\">\n",
       "      <th></th>\n",
       "      <th>something</th>\n",
       "      <th>store_ID</th>\n",
       "      <th>day_of_week</th>\n",
       "      <th>date</th>\n",
       "      <th>nb_customers_on_day</th>\n",
       "      <th>open</th>\n",
       "      <th>promotion</th>\n",
       "      <th>state_holiday</th>\n",
       "      <th>school_holiday</th>\n",
       "      <th>sales</th>\n",
       "    </tr>\n",
       "  </thead>\n",
       "  <tbody>\n",
       "    <tr>\n",
       "      <th>0</th>\n",
       "      <td>425390</td>\n",
       "      <td>366</td>\n",
       "      <td>4</td>\n",
       "      <td>2013-04-18</td>\n",
       "      <td>517</td>\n",
       "      <td>1</td>\n",
       "      <td>0</td>\n",
       "      <td>0</td>\n",
       "      <td>0</td>\n",
       "      <td>4422</td>\n",
       "    </tr>\n",
       "    <tr>\n",
       "      <th>1</th>\n",
       "      <td>291687</td>\n",
       "      <td>394</td>\n",
       "      <td>6</td>\n",
       "      <td>2015-04-11</td>\n",
       "      <td>694</td>\n",
       "      <td>1</td>\n",
       "      <td>0</td>\n",
       "      <td>0</td>\n",
       "      <td>0</td>\n",
       "      <td>8297</td>\n",
       "    </tr>\n",
       "    <tr>\n",
       "      <th>2</th>\n",
       "      <td>411278</td>\n",
       "      <td>807</td>\n",
       "      <td>4</td>\n",
       "      <td>2013-08-29</td>\n",
       "      <td>970</td>\n",
       "      <td>1</td>\n",
       "      <td>1</td>\n",
       "      <td>0</td>\n",
       "      <td>0</td>\n",
       "      <td>9729</td>\n",
       "    </tr>\n",
       "    <tr>\n",
       "      <th>3</th>\n",
       "      <td>664714</td>\n",
       "      <td>802</td>\n",
       "      <td>2</td>\n",
       "      <td>2013-05-28</td>\n",
       "      <td>473</td>\n",
       "      <td>1</td>\n",
       "      <td>1</td>\n",
       "      <td>0</td>\n",
       "      <td>0</td>\n",
       "      <td>6513</td>\n",
       "    </tr>\n",
       "    <tr>\n",
       "      <th>4</th>\n",
       "      <td>540835</td>\n",
       "      <td>726</td>\n",
       "      <td>4</td>\n",
       "      <td>2013-10-10</td>\n",
       "      <td>1068</td>\n",
       "      <td>1</td>\n",
       "      <td>1</td>\n",
       "      <td>0</td>\n",
       "      <td>0</td>\n",
       "      <td>10882</td>\n",
       "    </tr>\n",
       "  </tbody>\n",
       "</table>\n",
       "</div>"
      ]
     },
     "execution_count": 88,
     "metadata": {},
     "output_type": "execute_result"
    }
   ],
   "execution_count": 88
  },
  {
   "cell_type": "code",
   "metadata": {
    "ExecuteTime": {
     "end_time": "2024-09-20T14:47:16.455497Z",
     "start_time": "2024-09-20T14:47:14.178700Z"
    }
   },
   "source": [
    "# Seperate date column into month, day and year to account for seasonal and annual fluctuations in sales \n",
    "sales_data['date'] = pd.to_datetime(sales_data['date'])\n",
    "sales_data['year'] = sales_data['date'].dt.year\n",
    "sales_data['month'] = sales_data['date'].dt.month\n",
    "sales_data['day'] = sales_data['date'].dt.day\n",
    "\n",
    "# Drop date column as this is not informative to the model\n",
    "sales_data.drop([\"date\"], axis = \"columns\", inplace=True)\n",
    "sales_data.head()\n"
   ],
   "outputs": [
    {
     "data": {
      "text/plain": [
       "   something  store_ID  day_of_week  nb_customers_on_day  open  promotion  \\\n",
       "0     425390       366            4                  517     1          0   \n",
       "1     291687       394            6                  694     1          0   \n",
       "2     411278       807            4                  970     1          1   \n",
       "3     664714       802            2                  473     1          1   \n",
       "4     540835       726            4                 1068     1          1   \n",
       "\n",
       "  state_holiday  school_holiday  sales  year  month  day  \n",
       "0             0               0   4422  2013      4   18  \n",
       "1             0               0   8297  2015      4   11  \n",
       "2             0               0   9729  2013      8   29  \n",
       "3             0               0   6513  2013      5   28  \n",
       "4             0               0  10882  2013     10   10  "
      ],
      "text/html": [
       "<div>\n",
       "<style scoped>\n",
       "    .dataframe tbody tr th:only-of-type {\n",
       "        vertical-align: middle;\n",
       "    }\n",
       "\n",
       "    .dataframe tbody tr th {\n",
       "        vertical-align: top;\n",
       "    }\n",
       "\n",
       "    .dataframe thead th {\n",
       "        text-align: right;\n",
       "    }\n",
       "</style>\n",
       "<table border=\"1\" class=\"dataframe\">\n",
       "  <thead>\n",
       "    <tr style=\"text-align: right;\">\n",
       "      <th></th>\n",
       "      <th>something</th>\n",
       "      <th>store_ID</th>\n",
       "      <th>day_of_week</th>\n",
       "      <th>nb_customers_on_day</th>\n",
       "      <th>open</th>\n",
       "      <th>promotion</th>\n",
       "      <th>state_holiday</th>\n",
       "      <th>school_holiday</th>\n",
       "      <th>sales</th>\n",
       "      <th>year</th>\n",
       "      <th>month</th>\n",
       "      <th>day</th>\n",
       "    </tr>\n",
       "  </thead>\n",
       "  <tbody>\n",
       "    <tr>\n",
       "      <th>0</th>\n",
       "      <td>425390</td>\n",
       "      <td>366</td>\n",
       "      <td>4</td>\n",
       "      <td>517</td>\n",
       "      <td>1</td>\n",
       "      <td>0</td>\n",
       "      <td>0</td>\n",
       "      <td>0</td>\n",
       "      <td>4422</td>\n",
       "      <td>2013</td>\n",
       "      <td>4</td>\n",
       "      <td>18</td>\n",
       "    </tr>\n",
       "    <tr>\n",
       "      <th>1</th>\n",
       "      <td>291687</td>\n",
       "      <td>394</td>\n",
       "      <td>6</td>\n",
       "      <td>694</td>\n",
       "      <td>1</td>\n",
       "      <td>0</td>\n",
       "      <td>0</td>\n",
       "      <td>0</td>\n",
       "      <td>8297</td>\n",
       "      <td>2015</td>\n",
       "      <td>4</td>\n",
       "      <td>11</td>\n",
       "    </tr>\n",
       "    <tr>\n",
       "      <th>2</th>\n",
       "      <td>411278</td>\n",
       "      <td>807</td>\n",
       "      <td>4</td>\n",
       "      <td>970</td>\n",
       "      <td>1</td>\n",
       "      <td>1</td>\n",
       "      <td>0</td>\n",
       "      <td>0</td>\n",
       "      <td>9729</td>\n",
       "      <td>2013</td>\n",
       "      <td>8</td>\n",
       "      <td>29</td>\n",
       "    </tr>\n",
       "    <tr>\n",
       "      <th>3</th>\n",
       "      <td>664714</td>\n",
       "      <td>802</td>\n",
       "      <td>2</td>\n",
       "      <td>473</td>\n",
       "      <td>1</td>\n",
       "      <td>1</td>\n",
       "      <td>0</td>\n",
       "      <td>0</td>\n",
       "      <td>6513</td>\n",
       "      <td>2013</td>\n",
       "      <td>5</td>\n",
       "      <td>28</td>\n",
       "    </tr>\n",
       "    <tr>\n",
       "      <th>4</th>\n",
       "      <td>540835</td>\n",
       "      <td>726</td>\n",
       "      <td>4</td>\n",
       "      <td>1068</td>\n",
       "      <td>1</td>\n",
       "      <td>1</td>\n",
       "      <td>0</td>\n",
       "      <td>0</td>\n",
       "      <td>10882</td>\n",
       "      <td>2013</td>\n",
       "      <td>10</td>\n",
       "      <td>10</td>\n",
       "    </tr>\n",
       "  </tbody>\n",
       "</table>\n",
       "</div>"
      ]
     },
     "execution_count": 89,
     "metadata": {},
     "output_type": "execute_result"
    }
   ],
   "execution_count": 89
  },
  {
   "cell_type": "code",
   "metadata": {
    "ExecuteTime": {
     "end_time": "2024-09-20T14:47:17.234821Z",
     "start_time": "2024-09-20T14:47:17.075468Z"
    }
   },
   "source": [
    "# Handling with categorical variables, etc.\n",
    "sales_data['state_holiday'].value_counts()"
   ],
   "outputs": [
    {
     "data": {
      "text/plain": [
       "state_holiday\n",
       "0    621160\n",
       "a     12842\n",
       "b      4214\n",
       "c      2624\n",
       "Name: count, dtype: int64"
      ]
     },
     "execution_count": 90,
     "metadata": {},
     "output_type": "execute_result"
    }
   ],
   "execution_count": 90
  },
  {
   "cell_type": "code",
   "metadata": {
    "ExecuteTime": {
     "end_time": "2024-09-20T14:47:18.612634Z",
     "start_time": "2024-09-20T14:47:18.060967Z"
    }
   },
   "source": [
    "# Apply label encoding to 'state_holiday' column\n",
    "sales_data['state_holiday'] = LabelEncoder().fit_transform(sales_data['state_holiday'])\n",
    "\n",
    "# Check of the State holiday has been replaced correctly\n",
    "sales_data['state_holiday'].value_counts()"
   ],
   "outputs": [
    {
     "data": {
      "text/plain": [
       "state_holiday\n",
       "0    621160\n",
       "1     12842\n",
       "2      4214\n",
       "3      2624\n",
       "Name: count, dtype: int64"
      ]
     },
     "execution_count": 91,
     "metadata": {},
     "output_type": "execute_result"
    }
   ],
   "execution_count": 91
  },
  {
   "cell_type": "code",
   "metadata": {
    "ExecuteTime": {
     "end_time": "2024-09-20T14:47:19.978020Z",
     "start_time": "2024-09-20T14:47:19.848064Z"
    }
   },
   "source": [
    "scaler = MinMaxScaler()\n",
    "# Select the continuous columns to scale\n",
    "columns_to_scale = ['nb_customers_on_day', 'promotion']\n",
    "\n",
    "# Apply MinMax scaling to the selected columns\n",
    "sales_data[columns_to_scale] = scaler.fit_transform(sales_data[columns_to_scale])\n",
    "\n",
    "# Display the first few rows to verify scaling\n",
    "sales_data[columns_to_scale].head()"
   ],
   "outputs": [
    {
     "data": {
      "text/plain": [
       "   nb_customers_on_day  promotion\n",
       "0             0.094723        0.0\n",
       "1             0.127153        0.0\n",
       "2             0.177721        1.0\n",
       "3             0.086662        1.0\n",
       "4             0.195676        1.0"
      ],
      "text/html": [
       "<div>\n",
       "<style scoped>\n",
       "    .dataframe tbody tr th:only-of-type {\n",
       "        vertical-align: middle;\n",
       "    }\n",
       "\n",
       "    .dataframe tbody tr th {\n",
       "        vertical-align: top;\n",
       "    }\n",
       "\n",
       "    .dataframe thead th {\n",
       "        text-align: right;\n",
       "    }\n",
       "</style>\n",
       "<table border=\"1\" class=\"dataframe\">\n",
       "  <thead>\n",
       "    <tr style=\"text-align: right;\">\n",
       "      <th></th>\n",
       "      <th>nb_customers_on_day</th>\n",
       "      <th>promotion</th>\n",
       "    </tr>\n",
       "  </thead>\n",
       "  <tbody>\n",
       "    <tr>\n",
       "      <th>0</th>\n",
       "      <td>0.094723</td>\n",
       "      <td>0.0</td>\n",
       "    </tr>\n",
       "    <tr>\n",
       "      <th>1</th>\n",
       "      <td>0.127153</td>\n",
       "      <td>0.0</td>\n",
       "    </tr>\n",
       "    <tr>\n",
       "      <th>2</th>\n",
       "      <td>0.177721</td>\n",
       "      <td>1.0</td>\n",
       "    </tr>\n",
       "    <tr>\n",
       "      <th>3</th>\n",
       "      <td>0.086662</td>\n",
       "      <td>1.0</td>\n",
       "    </tr>\n",
       "    <tr>\n",
       "      <th>4</th>\n",
       "      <td>0.195676</td>\n",
       "      <td>1.0</td>\n",
       "    </tr>\n",
       "  </tbody>\n",
       "</table>\n",
       "</div>"
      ]
     },
     "execution_count": 92,
     "metadata": {},
     "output_type": "execute_result"
    }
   ],
   "execution_count": 92
  },
  {
   "cell_type": "code",
   "metadata": {
    "ExecuteTime": {
     "end_time": "2024-09-20T14:47:21.005881Z",
     "start_time": "2024-09-20T14:47:20.992760Z"
    }
   },
   "source": [
    "# Set plot style\n",
    "plt.style.use('ggplot')"
   ],
   "outputs": [],
   "execution_count": 93
  },
  {
   "cell_type": "code",
   "metadata": {
    "ExecuteTime": {
     "end_time": "2024-09-20T14:47:35.763979Z",
     "start_time": "2024-09-20T14:47:21.958814Z"
    }
   },
   "source": [
    "# Analyze the distribution of the 'sales' variable against the months of the year\n",
    "plt.figure(figsize=(4, 3))\n",
    "sns.barplot(x=\"month\", y=\"sales\", data=sales_data, errorbar=None)\n",
    "plt.title('Distribution of Sales against Months')\n",
    "plt.xlabel('Months')\n",
    "plt.ylabel('Sales')\n",
    "plt.show()\n",
    "\n",
    "# Analyze the distribution of the 'sales' variable against the years\n",
    "plt.figure(figsize=(4, 3))\n",
    "sns.barplot(x=\"year\", y=\"sales\", data=sales_data, errorbar=None)\n",
    "plt.title('Distribution of Sales against Years')\n",
    "plt.xlabel('Year')\n",
    "plt.ylabel('Sales')\n",
    "plt.show()\n",
    "\n",
    "# Analyze the distribution of the 'sales' variable against thedays of the month\n",
    "plt.figure(figsize=(4, 3))\n",
    "sns.barplot(x=\"day\", y=\"sales\", data=sales_data, errorbar=None)\n",
    "plt.title('Distribution of Sales against Day of the Month')\n",
    "plt.xlabel('Day')\n",
    "plt.ylabel('Sales')\n",
    "plt.show()"
   ],
   "outputs": [
    {
     "data": {
      "text/plain": [
       "<Figure size 400x300 with 1 Axes>"
      ],
      "image/png": "[encoded data removed]"
     },
     "metadata": {},
     "output_type": "display_data"
    },
    {
     "data": {
      "text/plain": [
       "<Figure size 400x300 with 1 Axes>"
      ],
      "image/png": "[encoded data removed]"
     },
     "metadata": {},
     "output_type": "display_data"
    },
    {
     "data": {
      "text/plain": [
       "<Figure size 400x300 with 1 Axes>"
      ],
      "image/png": "[encoded data removed]"
     },
     "metadata": {},
     "output_type": "display_data"
    }
   ],
   "execution_count": 94
  },
  {
   "cell_type": "code",
   "metadata": {
    "ExecuteTime": {
     "end_time": "2024-09-20T14:47:38.614212Z",
     "start_time": "2024-09-20T14:47:35.840191Z"
    }
   },
   "source": [
    "# Correlation matrix\n",
    "plt.figure(figsize=(10, 8))\n",
    "correlation_matrix = sales_data.corr()\n",
    "sns.heatmap(correlation_matrix, annot=True, cmap='coolwarm', fmt='.2f', linewidths=0.5)\n",
    "plt.title('Correlation Matrix')\n",
    "plt.show()"
   ],
   "outputs": [
    {
     "data": {
      "text/plain": [
       "<Figure size 1000x800 with 2 Axes>"
      ],
      "image/png": "[encoded data removed]"
     },
     "metadata": {},
     "output_type": "display_data"
    }
   ],
   "execution_count": 95
  },
  {
   "cell_type": "code",
   "metadata": {
    "ExecuteTime": {
     "end_time": "2024-09-20T14:47:38.860515Z",
     "start_time": "2024-09-20T14:47:38.759009Z"
    }
   },
   "source": [
    "calculate_best = False\n",
    "\n",
    "if calculate_best:\n",
    "  # Define empty array and variable for best model features and R2\n",
    "  best = []\n",
    "  best_R2 = 0\n",
    "  \n",
    "  # Defining x, y to initialize model\n",
    "  X = sales_data.drop(columns=['sales'])\n",
    "  y = sales_data['sales']\n",
    "  \n",
    "  # Loop through all combinations of columns with an xgboost algorithm to find the best model\n",
    "  columns = X.columns\n",
    "  \n",
    "  def evaluate_model(feature_combination):\n",
    "      X_subset = X[list(feature_combination)]\n",
    "  \n",
    "      # Step 1: Split data set into training and test data\n",
    "      X_train, X_test, y_train, y_test = train_test_split(X_subset, y, test_size=0.2, random_state=42)\n",
    "      \n",
    "      # Step 2: Initialize model\n",
    "      model = XGBRegressor()\n",
    "  \n",
    "      # Step 3: Train the model\n",
    "      model.fit(X_train, y_train)\n",
    "          \n",
    "      # Step 4: Predict on test data\n",
    "      y_pred = model.predict(X_test)\n",
    "          \n",
    "      # Step 5: Calculate metrics\n",
    "      r2 = r2_score(y_test, y_pred)\n",
    "      return r2 \n",
    "      \n",
    "  # Print performance metrics and best model combination as well as R2 score\n",
    "  for r in range(1, len(columns) + 1):\n",
    "      for combo in itertools.combinations(columns, r):\n",
    "          r2 = evaluate_model(combo)\n",
    "          if r2 > best_R2:\n",
    "              best = combo\n",
    "              best_R2 = r2\n",
    "              print(combo)\n",
    "              print(f\"R²: {r2:.4f}\")\n",
    "  print(best, best_R2)"
   ],
   "outputs": [],
   "execution_count": 96
  },
  {
   "metadata": {
    "ExecuteTime": {
     "end_time": "2024-09-20T14:47:39.283044Z",
     "start_time": "2024-09-20T14:47:39.033252Z"
    }
   },
   "cell_type": "code",
   "source": [
    "data_to_predict = pd.read_csv('G3.csv')\n",
    "\n",
    "# Check no missing values\n",
    "data_to_predict.isnull().sum()"
   ],
   "outputs": [
    {
     "data": {
      "text/plain": [
       "index                  0\n",
       "store_ID               0\n",
       "day_of_week            0\n",
       "date                   0\n",
       "nb_customers_on_day    0\n",
       "open                   0\n",
       "promotion              0\n",
       "state_holiday          0\n",
       "school_holiday         0\n",
       "dtype: int64"
      ]
     },
     "execution_count": 97,
     "metadata": {},
     "output_type": "execute_result"
    }
   ],
   "execution_count": 97
  },
  {
   "metadata": {
    "ExecuteTime": {
     "end_time": "2024-09-20T14:47:39.614026Z",
     "start_time": "2024-09-20T14:47:39.575161Z"
    }
   },
   "cell_type": "code",
   "source": [
    "# Print dataframe head to inspect data\n",
    "data_to_predict.head()"
   ],
   "outputs": [
    {
     "data": {
      "text/plain": [
       "    index  store_ID  day_of_week        date  nb_customers_on_day  open  \\\n",
       "0  272371       415            7  01/03/2015                    0     0   \n",
       "1  558468        27            7  29/12/2013                    0     0   \n",
       "2   76950       404            3  19/03/2014                  657     1   \n",
       "3   77556       683            2  29/01/2013                  862     1   \n",
       "4  456344       920            3  19/03/2014                  591     1   \n",
       "\n",
       "   promotion state_holiday  school_holiday  \n",
       "0          0             0               0  \n",
       "1          0             0               0  \n",
       "2          1             0               0  \n",
       "3          0             0               0  \n",
       "4          1             0               0  "
      ],
      "text/html": [
       "<div>\n",
       "<style scoped>\n",
       "    .dataframe tbody tr th:only-of-type {\n",
       "        vertical-align: middle;\n",
       "    }\n",
       "\n",
       "    .dataframe tbody tr th {\n",
       "        vertical-align: top;\n",
       "    }\n",
       "\n",
       "    .dataframe thead th {\n",
       "        text-align: right;\n",
       "    }\n",
       "</style>\n",
       "<table border=\"1\" class=\"dataframe\">\n",
       "  <thead>\n",
       "    <tr style=\"text-align: right;\">\n",
       "      <th></th>\n",
       "      <th>index</th>\n",
       "      <th>store_ID</th>\n",
       "      <th>day_of_week</th>\n",
       "      <th>date</th>\n",
       "      <th>nb_customers_on_day</th>\n",
       "      <th>open</th>\n",
       "      <th>promotion</th>\n",
       "      <th>state_holiday</th>\n",
       "      <th>school_holiday</th>\n",
       "    </tr>\n",
       "  </thead>\n",
       "  <tbody>\n",
       "    <tr>\n",
       "      <th>0</th>\n",
       "      <td>272371</td>\n",
       "      <td>415</td>\n",
       "      <td>7</td>\n",
       "      <td>01/03/2015</td>\n",
       "      <td>0</td>\n",
       "      <td>0</td>\n",
       "      <td>0</td>\n",
       "      <td>0</td>\n",
       "      <td>0</td>\n",
       "    </tr>\n",
       "    <tr>\n",
       "      <th>1</th>\n",
       "      <td>558468</td>\n",
       "      <td>27</td>\n",
       "      <td>7</td>\n",
       "      <td>29/12/2013</td>\n",
       "      <td>0</td>\n",
       "      <td>0</td>\n",
       "      <td>0</td>\n",
       "      <td>0</td>\n",
       "      <td>0</td>\n",
       "    </tr>\n",
       "    <tr>\n",
       "      <th>2</th>\n",
       "      <td>76950</td>\n",
       "      <td>404</td>\n",
       "      <td>3</td>\n",
       "      <td>19/03/2014</td>\n",
       "      <td>657</td>\n",
       "      <td>1</td>\n",
       "      <td>1</td>\n",
       "      <td>0</td>\n",
       "      <td>0</td>\n",
       "    </tr>\n",
       "    <tr>\n",
       "      <th>3</th>\n",
       "      <td>77556</td>\n",
       "      <td>683</td>\n",
       "      <td>2</td>\n",
       "      <td>29/01/2013</td>\n",
       "      <td>862</td>\n",
       "      <td>1</td>\n",
       "      <td>0</td>\n",
       "      <td>0</td>\n",
       "      <td>0</td>\n",
       "    </tr>\n",
       "    <tr>\n",
       "      <th>4</th>\n",
       "      <td>456344</td>\n",
       "      <td>920</td>\n",
       "      <td>3</td>\n",
       "      <td>19/03/2014</td>\n",
       "      <td>591</td>\n",
       "      <td>1</td>\n",
       "      <td>1</td>\n",
       "      <td>0</td>\n",
       "      <td>0</td>\n",
       "    </tr>\n",
       "  </tbody>\n",
       "</table>\n",
       "</div>"
      ]
     },
     "execution_count": 98,
     "metadata": {},
     "output_type": "execute_result"
    }
   ],
   "execution_count": 98
  },
  {
   "metadata": {
    "ExecuteTime": {
     "end_time": "2024-09-20T14:47:41.173804Z",
     "start_time": "2024-09-20T14:47:40.022457Z"
    }
   },
   "cell_type": "code",
   "source": [
    "# Seperate date column into month, day and year to account for seasonal and annual fluctuations in sales \n",
    "data_to_predict['date'] = pd.to_datetime(data_to_predict['date'], format='%d/%m/%Y')\n",
    "\n",
    "data_to_predict['year'] = data_to_predict['date'].dt.year\n",
    "data_to_predict['month'] = data_to_predict['date'].dt.month\n",
    "data_to_predict['day'] = data_to_predict['date'].dt.day\n",
    "\n",
    "# Drop date column as this is not informative to the model\n",
    "data_to_predict.drop([\"date\"], axis=\"columns\", inplace=True)\n",
    "data_to_predict.head()"
   ],
   "outputs": [
    {
     "data": {
      "text/plain": [
       "    index  store_ID  day_of_week  nb_customers_on_day  open  promotion  \\\n",
       "0  272371       415            7                    0     0          0   \n",
       "1  558468        27            7                    0     0          0   \n",
       "2   76950       404            3                  657     1          1   \n",
       "3   77556       683            2                  862     1          0   \n",
       "4  456344       920            3                  591     1          1   \n",
       "\n",
       "  state_holiday  school_holiday  year  month  day  \n",
       "0             0               0  2015      3    1  \n",
       "1             0               0  2013     12   29  \n",
       "2             0               0  2014      3   19  \n",
       "3             0               0  2013      1   29  \n",
       "4             0               0  2014      3   19  "
      ],
      "text/html": [
       "<div>\n",
       "<style scoped>\n",
       "    .dataframe tbody tr th:only-of-type {\n",
       "        vertical-align: middle;\n",
       "    }\n",
       "\n",
       "    .dataframe tbody tr th {\n",
       "        vertical-align: top;\n",
       "    }\n",
       "\n",
       "    .dataframe thead th {\n",
       "        text-align: right;\n",
       "    }\n",
       "</style>\n",
       "<table border=\"1\" class=\"dataframe\">\n",
       "  <thead>\n",
       "    <tr style=\"text-align: right;\">\n",
       "      <th></th>\n",
       "      <th>index</th>\n",
       "      <th>store_ID</th>\n",
       "      <th>day_of_week</th>\n",
       "      <th>nb_customers_on_day</th>\n",
       "      <th>open</th>\n",
       "      <th>promotion</th>\n",
       "      <th>state_holiday</th>\n",
       "      <th>school_holiday</th>\n",
       "      <th>year</th>\n",
       "      <th>month</th>\n",
       "      <th>day</th>\n",
       "    </tr>\n",
       "  </thead>\n",
       "  <tbody>\n",
       "    <tr>\n",
       "      <th>0</th>\n",
       "      <td>272371</td>\n",
       "      <td>415</td>\n",
       "      <td>7</td>\n",
       "      <td>0</td>\n",
       "      <td>0</td>\n",
       "      <td>0</td>\n",
       "      <td>0</td>\n",
       "      <td>0</td>\n",
       "      <td>2015</td>\n",
       "      <td>3</td>\n",
       "      <td>1</td>\n",
       "    </tr>\n",
       "    <tr>\n",
       "      <th>1</th>\n",
       "      <td>558468</td>\n",
       "      <td>27</td>\n",
       "      <td>7</td>\n",
       "      <td>0</td>\n",
       "      <td>0</td>\n",
       "      <td>0</td>\n",
       "      <td>0</td>\n",
       "      <td>0</td>\n",
       "      <td>2013</td>\n",
       "      <td>12</td>\n",
       "      <td>29</td>\n",
       "    </tr>\n",
       "    <tr>\n",
       "      <th>2</th>\n",
       "      <td>76950</td>\n",
       "      <td>404</td>\n",
       "      <td>3</td>\n",
       "      <td>657</td>\n",
       "      <td>1</td>\n",
       "      <td>1</td>\n",
       "      <td>0</td>\n",
       "      <td>0</td>\n",
       "      <td>2014</td>\n",
       "      <td>3</td>\n",
       "      <td>19</td>\n",
       "    </tr>\n",
       "    <tr>\n",
       "      <th>3</th>\n",
       "      <td>77556</td>\n",
       "      <td>683</td>\n",
       "      <td>2</td>\n",
       "      <td>862</td>\n",
       "      <td>1</td>\n",
       "      <td>0</td>\n",
       "      <td>0</td>\n",
       "      <td>0</td>\n",
       "      <td>2013</td>\n",
       "      <td>1</td>\n",
       "      <td>29</td>\n",
       "    </tr>\n",
       "    <tr>\n",
       "      <th>4</th>\n",
       "      <td>456344</td>\n",
       "      <td>920</td>\n",
       "      <td>3</td>\n",
       "      <td>591</td>\n",
       "      <td>1</td>\n",
       "      <td>1</td>\n",
       "      <td>0</td>\n",
       "      <td>0</td>\n",
       "      <td>2014</td>\n",
       "      <td>3</td>\n",
       "      <td>19</td>\n",
       "    </tr>\n",
       "  </tbody>\n",
       "</table>\n",
       "</div>"
      ]
     },
     "execution_count": 99,
     "metadata": {},
     "output_type": "execute_result"
    }
   ],
   "execution_count": 99
  },
  {
   "metadata": {
    "ExecuteTime": {
     "end_time": "2024-09-20T14:47:41.629200Z",
     "start_time": "2024-09-20T14:47:41.586788Z"
    }
   },
   "cell_type": "code",
   "source": [
    "# Handling with categorical variables, etc.\n",
    "data_to_predict['state_holiday'].value_counts()"
   ],
   "outputs": [
    {
     "data": {
      "text/plain": [
       "state_holiday\n",
       "0    69050\n",
       "a     1405\n",
       "b      475\n",
       "c      275\n",
       "Name: count, dtype: int64"
      ]
     },
     "execution_count": 100,
     "metadata": {},
     "output_type": "execute_result"
    }
   ],
   "execution_count": 100
  },
  {
   "metadata": {
    "ExecuteTime": {
     "end_time": "2024-09-20T14:47:42.566261Z",
     "start_time": "2024-09-20T14:47:42.497916Z"
    }
   },
   "cell_type": "code",
   "source": [
    "# Apply label encoding to 'state_holiday' column\n",
    "data_to_predict['state_holiday'] = LabelEncoder().fit_transform(data_to_predict['state_holiday'])\n",
    "\n",
    "# Check of the State holiday has been replaced correctly\n",
    "data_to_predict['state_holiday'].value_counts()"
   ],
   "outputs": [
    {
     "data": {
      "text/plain": [
       "state_holiday\n",
       "0    69050\n",
       "1     1405\n",
       "2      475\n",
       "3      275\n",
       "Name: count, dtype: int64"
      ]
     },
     "execution_count": 101,
     "metadata": {},
     "output_type": "execute_result"
    }
   ],
   "execution_count": 101
  },
  {
   "metadata": {
    "ExecuteTime": {
     "end_time": "2024-09-20T14:47:53.501515Z",
     "start_time": "2024-09-20T14:47:43.529462Z"
    }
   },
   "cell_type": "code",
   "source": [
    "best_columns = ['store_ID', 'day_of_week', 'nb_customers_on_day', 'promotion', 'year', 'month', 'day']\n",
    "\n",
    "X = sales_data[best_columns]\n",
    "y = sales_data['sales']\n",
    "\n",
    "X_pred = data_to_predict[best_columns]\n",
    "\n",
    "# Step 1: Split data set into training and test data\n",
    "X_train, X_test, y_train, y_test = train_test_split(X, y, test_size=0.2, random_state=42)\n",
    "\n",
    "# Step 2: Initialize model\n",
    "model = XGBRegressor()\n",
    "\n",
    "# Step 3: Train the model\n",
    "model.fit(X_train, y_train)\n",
    "    \n",
    "# Step 4: Predict on test data\n",
    "y_pred = model.predict(X_pred)"
   ],
   "outputs": [],
   "execution_count": 102
  },
  {
   "metadata": {
    "ExecuteTime": {
     "end_time": "2024-09-20T15:00:42.496604Z",
     "start_time": "2024-09-20T15:00:40.642276Z"
    }
   },
   "cell_type": "code",
   "source": [
    "y_pred = np.where(y_pred < 0, 0, y_pred)\n",
    "data_to_predict[\"y_pred\"] = y_pred.astype(int)\n",
    "\n",
    "data_to_predict.to_csv('G2_done.csv', index=False)"
   ],
   "outputs": [],
   "execution_count": 113
  },
  {
   "cell_type": "markdown",
   "metadata": {},
   "source": [
    "## Models tested:\n",
    "\n",
    "1. Linear Regression - R²: 0.85, RMSE: 0.04, MAE: 0.02\n",
    "\n",
    "2. Descision Tree\n",
    "\n",
    "    a) Descision Tree Depth 3 - R²: 0.81, RMSE: 0.04, MAE: 0.03\n",
    "\n",
    "    b) Descision Tree Depth 5 - R²: 0.86, RMSE: 0.04, MAE: 0.02\n",
    "\n",
    "    c) Descision Tree Depth 7 - R²: 0.87, RMSE: 0.03, MAE: 0.02\n",
    "\n",
    "    d) Descision Tree Depth 8 - R²: 0.87, RMSE: 0.03, MAE: 0.02\n",
    "\n",
    "    e) Descision Tree Depth 9 - R²: 0.88, RMSE: 0.03, MAE: 0.02\n",
    "\n",
    "    f) Descision Tree Depth 10 - R²: 0.88, RMSE: 0.03, MAE: 0.02\n",
    "\n",
    "3. Random Forest - Performance not better than Descision Tree\n",
    "\n",
    "4. Gradient Boosting \n",
    "\n",
    "    a) Gradient Boosting Depth 3 - R²: 0.88, RMSE: 0.03, MAE: 0.02\n",
    "\n",
    "    b) Gradient Boosting Depth 5 - R²: 0.88, RMSE: 0.03, MAE: 0.02\n",
    "\n",
    "    c) Gradient Boosting Depth 7 - R²: 0.88, RMSE: 0.03, MAE: 0.02\n",
    "    \n",
    "5. XGBoost \n",
    "\n",
    "    a) XGBoost default - R²: 0.88, RMSE: 0.03, MAE: 0.02 \n",
    "\n",
    "    b) XGBoost linear - R²: 0.85, RMSE: 0.04, MAE: 0.02 \n",
    "\n",
    "    c) XGBoost dart - R²: 0.88, RMSE: 0.03, MAE: 0.02 \n",
    "   \n",
    "    d) XGBoost default - R²: 0.93, RMSE: 0.03, MAE: 0.02 (with selected columns)\n",
    "\n",
    "6. K-Nearest Neighbours\n",
    "\n",
    "    #Sample size: half of the original data\n",
    "\n",
    "    a) KNN 3 Neighbours - R²: 0.84, RMSE: 0.04, MAE: 0.02 - half\n",
    "\n",
    "    b) KNN 5 Neighbours - R²: 0.86, RMSE: 0.03, MAE: 0.02 - half\n",
    "\n",
    "    c) KNN 10 Neighbours - R²: 0.87, RMSE: 0.03, MAE: 0.02 - half\n",
    "\n",
    "    #Sample size: full data set\n",
    "    \n",
    "    d) KNN 15 - R²: 0.87, RMSE: 0.03, MAE: 0.02 - full\n",
    "\n",
    "7. svm - takes too long\n",
    "\n",
    "We also checked for feature importance and dropped unimportant columns (\"month\", \"school_holiday\", \"state_holiday\", \"open\"), but results were worse than on the full model"
   ]
  },
  {
   "cell_type": "code",
   "metadata": {
    "ExecuteTime": {
     "end_time": "2024-09-20T14:47:54.721924300Z",
     "start_time": "2024-09-20T14:46:08.073275Z"
    }
   },
   "source": [],
   "outputs": [],
   "execution_count": null
  }
 ],
 "metadata": {
  "kernelspec": {
   "display_name": "base",
   "language": "python",
   "name": "python3"
  },
  "language_info": {
   "codemirror_mode": {
    "name": "ipython",
    "version": 3
   },
   "file_extension": ".py",
   "mimetype": "text/x-python",
   "name": "python",
   "nbconvert_exporter": "python",
   "pygments_lexer": "ipython3",
   "version": "3.12.4"
  }
 },
 "nbformat": 4,
 "nbformat_minor": 2
}
